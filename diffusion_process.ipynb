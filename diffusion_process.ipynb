{
 "cells": [
  {
   "cell_type": "code",
   "execution_count": 1,
   "id": "e7ce4319",
   "metadata": {},
   "outputs": [],
   "source": [
    "import pandas as pd \n",
    "import numpy as np\n",
    "import sys\n",
    "import os\n",
    "import torch\n",
    "import torch.nn as nn\n",
    "import torch.nn.functional as F\n",
    "from torch.utils.data import Dataset, DataLoader"
   ]
  },
  {
   "cell_type": "code",
   "execution_count": 2,
   "id": "69b0a4ab",
   "metadata": {},
   "outputs": [
    {
     "name": "stdout",
     "output_type": "stream",
     "text": [
      "Generated sine data shape: torch.Size([1000, 100])\n",
      "Diffusion model initialized with 1000 timesteps\n"
     ]
    }
   ],
   "source": [
    "# Define a simple 1D diffusion model for sine wave generation\n",
    "class SimpleDiffusion:\n",
    "    def __init__(self, timesteps=1000):\n",
    "        self.timesteps = timesteps\n",
    "        \n",
    "        # Create noise schedule (beta values)\n",
    "        self.betas = torch.linspace(0.0001, 0.02, timesteps)\n",
    "        self.alphas = 1.0 - self.betas\n",
    "        self.alpha_cumprod = torch.cumprod(self.alphas, dim=0)\n",
    "        \n",
    "    def add_noise(self, x, t):\n",
    "        \"\"\"Add noise to data at timestep t\"\"\"\n",
    "        noise = torch.randn_like(x)\n",
    "        sqrt_alpha_cumprod = torch.sqrt(self.alpha_cumprod[t])\n",
    "        sqrt_one_minus_alpha_cumprod = torch.sqrt(1 - self.alpha_cumprod[t])\n",
    "        \n",
    "        return sqrt_alpha_cumprod * x + sqrt_one_minus_alpha_cumprod * noise, noise\n",
    "\n",
    "# Generate sample sine wave data\n",
    "def generate_sine_data(num_samples=1000, seq_length=100):\n",
    "    x = np.linspace(0, 4*np.pi, seq_length)\n",
    "    data = []\n",
    "    \n",
    "    for _ in range(num_samples):\n",
    "        # Add some variation to frequency and phase\n",
    "        freq = np.random.uniform(0.5, 2.0)\n",
    "        phase = np.random.uniform(0, 2*np.pi)\n",
    "        amplitude = np.random.uniform(0.5, 1.5)\n",
    "        \n",
    "        sine_wave = amplitude * np.sin(freq * x + phase)\n",
    "        data.append(sine_wave)\n",
    "    \n",
    "    return torch.tensor(np.array(data), dtype=torch.float32)\n",
    "\n",
    "# Create dataset\n",
    "sine_data = generate_sine_data()\n",
    "diffusion = SimpleDiffusion()\n",
    "\n",
    "print(f\"Generated sine data shape: {sine_data.shape}\")\n",
    "print(\"Diffusion model initialized with {} timesteps\".format(diffusion.timesteps))"
   ]
  },
  {
   "cell_type": "code",
   "execution_count": 6,
   "id": "722e1e85",
   "metadata": {},
   "outputs": [],
   "source": [
    "# Define a simple 1D diffusion model for sine wave generation\n",
    "class SimpleDiffusion:\n",
    "    def __init__(self, timesteps=1000):\n",
    "        self.timesteps = timesteps\n",
    "        \n",
    "        # Create noise schedule (beta values)\n",
    "        self.betas = torch.linspace(0.0001, 0.02, timesteps)\n",
    "        self.alphas = 1.0 - self.betas\n",
    "        self.alpha_cumprod = torch.cumprod(self.alphas, dim=0)\n",
    "        \n",
    "    def add_noise(self, x, t):\n",
    "        \"\"\"Add noise to data at timestep t\"\"\"\n",
    "        noise = torch.randn_like(x)\n",
    "        sqrt_alpha_cumprod = torch.sqrt(self.alpha_cumprod[t]).unsqueeze(1)  # Add dimension for broadcasting\n",
    "        sqrt_one_minus_alpha_cumprod = torch.sqrt(1 - self.alpha_cumprod[t]).unsqueeze(1)  # Add dimension for broadcasting\n",
    "        \n",
    "        return sqrt_alpha_cumprod * x + sqrt_one_minus_alpha_cumprod * noise, noise\n",
    "\n",
    "# Update the diffusion object\n",
    "diffusion = SimpleDiffusion()\n"
   ]
  },
  {
   "cell_type": "code",
   "execution_count": 7,
   "id": "e244d43b",
   "metadata": {},
   "outputs": [
    {
     "ename": "IndexError",
     "evalue": "Dimension out of range (expected to be in range of [-1, 0], but got 1)",
     "output_type": "error",
     "traceback": [
      "\u001b[31m---------------------------------------------------------------------------\u001b[39m",
      "\u001b[31mIndexError\u001b[39m                                Traceback (most recent call last)",
      "\u001b[36mCell\u001b[39m\u001b[36m \u001b[39m\u001b[32mIn[7]\u001b[39m\u001b[32m, line 4\u001b[39m\n\u001b[32m      2\u001b[39m \u001b[38;5;66;03m# Add noise to the sine data at each timestep\u001b[39;00m\n\u001b[32m      3\u001b[39m \u001b[38;5;28;01mfor\u001b[39;00m t \u001b[38;5;129;01min\u001b[39;00m \u001b[38;5;28mrange\u001b[39m(diffusion.timesteps):\n\u001b[32m----> \u001b[39m\u001b[32m4\u001b[39m     noisy_data, noise = \u001b[43mdiffusion\u001b[49m\u001b[43m.\u001b[49m\u001b[43madd_noise\u001b[49m\u001b[43m(\u001b[49m\u001b[43msine_data\u001b[49m\u001b[43m,\u001b[49m\u001b[43m \u001b[49m\u001b[43mt\u001b[49m\u001b[43m)\u001b[49m\n\u001b[32m      5\u001b[39m     diffusion_data.append(noisy_data)\n\u001b[32m      6\u001b[39m \u001b[38;5;66;03m# Convert to tensor\u001b[39;00m\n",
      "\u001b[36mCell\u001b[39m\u001b[36m \u001b[39m\u001b[32mIn[6]\u001b[39m\u001b[32m, line 14\u001b[39m, in \u001b[36mSimpleDiffusion.add_noise\u001b[39m\u001b[34m(self, x, t)\u001b[39m\n\u001b[32m     12\u001b[39m \u001b[38;5;250m\u001b[39m\u001b[33;03m\"\"\"Add noise to data at timestep t\"\"\"\u001b[39;00m\n\u001b[32m     13\u001b[39m noise = torch.randn_like(x)\n\u001b[32m---> \u001b[39m\u001b[32m14\u001b[39m sqrt_alpha_cumprod = \u001b[43mtorch\u001b[49m\u001b[43m.\u001b[49m\u001b[43msqrt\u001b[49m\u001b[43m(\u001b[49m\u001b[38;5;28;43mself\u001b[39;49m\u001b[43m.\u001b[49m\u001b[43malpha_cumprod\u001b[49m\u001b[43m[\u001b[49m\u001b[43mt\u001b[49m\u001b[43m]\u001b[49m\u001b[43m)\u001b[49m\u001b[43m.\u001b[49m\u001b[43munsqueeze\u001b[49m\u001b[43m(\u001b[49m\u001b[32;43m1\u001b[39;49m\u001b[43m)\u001b[49m  \u001b[38;5;66;03m# Add dimension for broadcasting\u001b[39;00m\n\u001b[32m     15\u001b[39m sqrt_one_minus_alpha_cumprod = torch.sqrt(\u001b[32m1\u001b[39m - \u001b[38;5;28mself\u001b[39m.alpha_cumprod[t]).unsqueeze(\u001b[32m1\u001b[39m)  \u001b[38;5;66;03m# Add dimension for broadcasting\u001b[39;00m\n\u001b[32m     17\u001b[39m \u001b[38;5;28;01mreturn\u001b[39;00m sqrt_alpha_cumprod * x + sqrt_one_minus_alpha_cumprod * noise, noise\n",
      "\u001b[31mIndexError\u001b[39m: Dimension out of range (expected to be in range of [-1, 0], but got 1)"
     ]
    }
   ],
   "source": [
    "diffusion_data = []\n",
    "# Add noise to the sine data at each timestep\n",
    "for t in range(diffusion.timesteps):\n",
    "    noisy_data, noise = diffusion.add_noise(sine_data, t)\n",
    "    diffusion_data.append(noisy_data)\n",
    "# Convert to tensor\n",
    "diffusion_data = torch.stack(diffusion_data)\n",
    "print(f\"Diffusion data shape: {diffusion_data.shape}\")\n",
    "#plot the first few noisy samples\n",
    "import matplotlib.pyplot as plt\n",
    "for i in range(5):\n",
    "    plt.plot(diffusion_data[:, i].numpy(), label=f'Sample {i+1}')\n",
    "plt.title('Noisy Sine Wave Samples')\n",
    "plt.xlabel('Time Steps')\n",
    "plt.ylabel('Amplitude')\n",
    "plt.legend()\n",
    "plt.show()\n"
   ]
  }
 ],
 "metadata": {
  "kernelspec": {
   "display_name": ".cyber_venv",
   "language": "python",
   "name": "python3"
  },
  "language_info": {
   "codemirror_mode": {
    "name": "ipython",
    "version": 3
   },
   "file_extension": ".py",
   "mimetype": "text/x-python",
   "name": "python",
   "nbconvert_exporter": "python",
   "pygments_lexer": "ipython3",
   "version": "3.12.9"
  }
 },
 "nbformat": 4,
 "nbformat_minor": 5
}
